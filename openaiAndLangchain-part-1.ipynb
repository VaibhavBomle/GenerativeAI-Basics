{
 "cells": [
  {
   "cell_type": "code",
   "execution_count": 58,
   "id": "6f3e9bb5-5fdd-486e-9ed6-81979e7fa970",
   "metadata": {},
   "outputs": [],
   "source": [
    "# Importing openai library\n",
    "import openai"
   ]
  },
  {
   "cell_type": "code",
   "execution_count": 59,
   "id": "79b6cf08-289d-480b-bb24-43e8a5eea545",
   "metadata": {},
   "outputs": [],
   "source": [
    "mykey = 'YOUR_API_KEY'"
   ]
  },
  {
   "cell_type": "code",
   "execution_count": 60,
   "id": "97f6b204-5b69-47f8-94f2-3c36d7c2be33",
   "metadata": {},
   "outputs": [],
   "source": [
    "openai.api_key = mykey"
   ]
  },
  {
   "cell_type": "code",
   "execution_count": 61,
   "id": "a912a8c2-4697-4c72-bd20-21b337471251",
   "metadata": {},
   "outputs": [
    {
     "ename": "AuthenticationError",
     "evalue": "Error code: 401 - {'error': {'message': 'Incorrect API key provided: YOUR_API_KEY. You can find your API key at https://platform.openai.com/account/api-keys.', 'type': 'invalid_request_error', 'param': None, 'code': 'invalid_api_key'}}",
     "output_type": "error",
     "traceback": [
      "\u001b[1;31m---------------------------------------------------------------------------\u001b[0m",
      "\u001b[1;31mAuthenticationError\u001b[0m                       Traceback (most recent call last)",
      "Cell \u001b[1;32mIn[61], line 1\u001b[0m\n\u001b[1;32m----> 1\u001b[0m all_models \u001b[38;5;241m=\u001b[39m \u001b[43mopenai\u001b[49m\u001b[38;5;241;43m.\u001b[39;49m\u001b[43mmodels\u001b[49m\u001b[38;5;241;43m.\u001b[39;49m\u001b[43mlist\u001b[49m\u001b[43m(\u001b[49m\u001b[43m)\u001b[49m\n",
      "File \u001b[1;32m~\\anaconda3\\envs\\testingopenai\\lib\\site-packages\\openai\\resources\\models.py:79\u001b[0m, in \u001b[0;36mModels.list\u001b[1;34m(self, extra_headers, extra_query, extra_body, timeout)\u001b[0m\n\u001b[0;32m     65\u001b[0m \u001b[38;5;28;01mdef\u001b[39;00m \u001b[38;5;21mlist\u001b[39m(\n\u001b[0;32m     66\u001b[0m     \u001b[38;5;28mself\u001b[39m,\n\u001b[0;32m     67\u001b[0m     \u001b[38;5;241m*\u001b[39m,\n\u001b[1;32m   (...)\u001b[0m\n\u001b[0;32m     73\u001b[0m     timeout: \u001b[38;5;28mfloat\u001b[39m \u001b[38;5;241m|\u001b[39m httpx\u001b[38;5;241m.\u001b[39mTimeout \u001b[38;5;241m|\u001b[39m \u001b[38;5;28;01mNone\u001b[39;00m \u001b[38;5;241m|\u001b[39m NotGiven \u001b[38;5;241m=\u001b[39m NOT_GIVEN,\n\u001b[0;32m     74\u001b[0m ) \u001b[38;5;241m-\u001b[39m\u001b[38;5;241m>\u001b[39m SyncPage[Model]:\n\u001b[0;32m     75\u001b[0m \u001b[38;5;250m    \u001b[39m\u001b[38;5;124;03m\"\"\"\u001b[39;00m\n\u001b[0;32m     76\u001b[0m \u001b[38;5;124;03m    Lists the currently available models, and provides basic information about each\u001b[39;00m\n\u001b[0;32m     77\u001b[0m \u001b[38;5;124;03m    one such as the owner and availability.\u001b[39;00m\n\u001b[0;32m     78\u001b[0m \u001b[38;5;124;03m    \"\"\"\u001b[39;00m\n\u001b[1;32m---> 79\u001b[0m     \u001b[38;5;28;01mreturn\u001b[39;00m \u001b[38;5;28;43mself\u001b[39;49m\u001b[38;5;241;43m.\u001b[39;49m\u001b[43m_get_api_list\u001b[49m\u001b[43m(\u001b[49m\n\u001b[0;32m     80\u001b[0m \u001b[43m        \u001b[49m\u001b[38;5;124;43m\"\u001b[39;49m\u001b[38;5;124;43m/models\u001b[39;49m\u001b[38;5;124;43m\"\u001b[39;49m\u001b[43m,\u001b[49m\n\u001b[0;32m     81\u001b[0m \u001b[43m        \u001b[49m\u001b[43mpage\u001b[49m\u001b[38;5;241;43m=\u001b[39;49m\u001b[43mSyncPage\u001b[49m\u001b[43m[\u001b[49m\u001b[43mModel\u001b[49m\u001b[43m]\u001b[49m\u001b[43m,\u001b[49m\n\u001b[0;32m     82\u001b[0m \u001b[43m        \u001b[49m\u001b[43moptions\u001b[49m\u001b[38;5;241;43m=\u001b[39;49m\u001b[43mmake_request_options\u001b[49m\u001b[43m(\u001b[49m\n\u001b[0;32m     83\u001b[0m \u001b[43m            \u001b[49m\u001b[43mextra_headers\u001b[49m\u001b[38;5;241;43m=\u001b[39;49m\u001b[43mextra_headers\u001b[49m\u001b[43m,\u001b[49m\u001b[43m \u001b[49m\u001b[43mextra_query\u001b[49m\u001b[38;5;241;43m=\u001b[39;49m\u001b[43mextra_query\u001b[49m\u001b[43m,\u001b[49m\u001b[43m \u001b[49m\u001b[43mextra_body\u001b[49m\u001b[38;5;241;43m=\u001b[39;49m\u001b[43mextra_body\u001b[49m\u001b[43m,\u001b[49m\u001b[43m \u001b[49m\u001b[43mtimeout\u001b[49m\u001b[38;5;241;43m=\u001b[39;49m\u001b[43mtimeout\u001b[49m\n\u001b[0;32m     84\u001b[0m \u001b[43m        \u001b[49m\u001b[43m)\u001b[49m\u001b[43m,\u001b[49m\n\u001b[0;32m     85\u001b[0m \u001b[43m        \u001b[49m\u001b[43mmodel\u001b[49m\u001b[38;5;241;43m=\u001b[39;49m\u001b[43mModel\u001b[49m\u001b[43m,\u001b[49m\n\u001b[0;32m     86\u001b[0m \u001b[43m    \u001b[49m\u001b[43m)\u001b[49m\n",
      "File \u001b[1;32m~\\anaconda3\\envs\\testingopenai\\lib\\site-packages\\openai\\_base_client.py:1249\u001b[0m, in \u001b[0;36mSyncAPIClient.get_api_list\u001b[1;34m(self, path, model, page, body, options, method)\u001b[0m\n\u001b[0;32m   1238\u001b[0m \u001b[38;5;28;01mdef\u001b[39;00m \u001b[38;5;21mget_api_list\u001b[39m(\n\u001b[0;32m   1239\u001b[0m     \u001b[38;5;28mself\u001b[39m,\n\u001b[0;32m   1240\u001b[0m     path: \u001b[38;5;28mstr\u001b[39m,\n\u001b[1;32m   (...)\u001b[0m\n\u001b[0;32m   1246\u001b[0m     method: \u001b[38;5;28mstr\u001b[39m \u001b[38;5;241m=\u001b[39m \u001b[38;5;124m\"\u001b[39m\u001b[38;5;124mget\u001b[39m\u001b[38;5;124m\"\u001b[39m,\n\u001b[0;32m   1247\u001b[0m ) \u001b[38;5;241m-\u001b[39m\u001b[38;5;241m>\u001b[39m SyncPageT:\n\u001b[0;32m   1248\u001b[0m     opts \u001b[38;5;241m=\u001b[39m FinalRequestOptions\u001b[38;5;241m.\u001b[39mconstruct(method\u001b[38;5;241m=\u001b[39mmethod, url\u001b[38;5;241m=\u001b[39mpath, json_data\u001b[38;5;241m=\u001b[39mbody, \u001b[38;5;241m*\u001b[39m\u001b[38;5;241m*\u001b[39moptions)\n\u001b[1;32m-> 1249\u001b[0m     \u001b[38;5;28;01mreturn\u001b[39;00m \u001b[38;5;28;43mself\u001b[39;49m\u001b[38;5;241;43m.\u001b[39;49m\u001b[43m_request_api_list\u001b[49m\u001b[43m(\u001b[49m\u001b[43mmodel\u001b[49m\u001b[43m,\u001b[49m\u001b[43m \u001b[49m\u001b[43mpage\u001b[49m\u001b[43m,\u001b[49m\u001b[43m \u001b[49m\u001b[43mopts\u001b[49m\u001b[43m)\u001b[49m\n",
      "File \u001b[1;32m~\\anaconda3\\envs\\testingopenai\\lib\\site-packages\\openai\\_base_client.py:1094\u001b[0m, in \u001b[0;36mSyncAPIClient._request_api_list\u001b[1;34m(self, model, page, options)\u001b[0m\n\u001b[0;32m   1090\u001b[0m     \u001b[38;5;28;01mreturn\u001b[39;00m resp\n\u001b[0;32m   1092\u001b[0m options\u001b[38;5;241m.\u001b[39mpost_parser \u001b[38;5;241m=\u001b[39m _parser\n\u001b[1;32m-> 1094\u001b[0m \u001b[38;5;28;01mreturn\u001b[39;00m \u001b[38;5;28;43mself\u001b[39;49m\u001b[38;5;241;43m.\u001b[39;49m\u001b[43mrequest\u001b[49m\u001b[43m(\u001b[49m\u001b[43mpage\u001b[49m\u001b[43m,\u001b[49m\u001b[43m \u001b[49m\u001b[43moptions\u001b[49m\u001b[43m,\u001b[49m\u001b[43m \u001b[49m\u001b[43mstream\u001b[49m\u001b[38;5;241;43m=\u001b[39;49m\u001b[38;5;28;43;01mFalse\u001b[39;49;00m\u001b[43m)\u001b[49m\n",
      "File \u001b[1;32m~\\anaconda3\\envs\\testingopenai\\lib\\site-packages\\openai\\_base_client.py:889\u001b[0m, in \u001b[0;36mSyncAPIClient.request\u001b[1;34m(self, cast_to, options, remaining_retries, stream, stream_cls)\u001b[0m\n\u001b[0;32m    880\u001b[0m \u001b[38;5;28;01mdef\u001b[39;00m \u001b[38;5;21mrequest\u001b[39m(\n\u001b[0;32m    881\u001b[0m     \u001b[38;5;28mself\u001b[39m,\n\u001b[0;32m    882\u001b[0m     cast_to: Type[ResponseT],\n\u001b[1;32m   (...)\u001b[0m\n\u001b[0;32m    887\u001b[0m     stream_cls: \u001b[38;5;28mtype\u001b[39m[_StreamT] \u001b[38;5;241m|\u001b[39m \u001b[38;5;28;01mNone\u001b[39;00m \u001b[38;5;241m=\u001b[39m \u001b[38;5;28;01mNone\u001b[39;00m,\n\u001b[0;32m    888\u001b[0m ) \u001b[38;5;241m-\u001b[39m\u001b[38;5;241m>\u001b[39m ResponseT \u001b[38;5;241m|\u001b[39m _StreamT:\n\u001b[1;32m--> 889\u001b[0m     \u001b[38;5;28;01mreturn\u001b[39;00m \u001b[38;5;28;43mself\u001b[39;49m\u001b[38;5;241;43m.\u001b[39;49m\u001b[43m_request\u001b[49m\u001b[43m(\u001b[49m\n\u001b[0;32m    890\u001b[0m \u001b[43m        \u001b[49m\u001b[43mcast_to\u001b[49m\u001b[38;5;241;43m=\u001b[39;49m\u001b[43mcast_to\u001b[49m\u001b[43m,\u001b[49m\n\u001b[0;32m    891\u001b[0m \u001b[43m        \u001b[49m\u001b[43moptions\u001b[49m\u001b[38;5;241;43m=\u001b[39;49m\u001b[43moptions\u001b[49m\u001b[43m,\u001b[49m\n\u001b[0;32m    892\u001b[0m \u001b[43m        \u001b[49m\u001b[43mstream\u001b[49m\u001b[38;5;241;43m=\u001b[39;49m\u001b[43mstream\u001b[49m\u001b[43m,\u001b[49m\n\u001b[0;32m    893\u001b[0m \u001b[43m        \u001b[49m\u001b[43mstream_cls\u001b[49m\u001b[38;5;241;43m=\u001b[39;49m\u001b[43mstream_cls\u001b[49m\u001b[43m,\u001b[49m\n\u001b[0;32m    894\u001b[0m \u001b[43m        \u001b[49m\u001b[43mremaining_retries\u001b[49m\u001b[38;5;241;43m=\u001b[39;49m\u001b[43mremaining_retries\u001b[49m\u001b[43m,\u001b[49m\n\u001b[0;32m    895\u001b[0m \u001b[43m    \u001b[49m\u001b[43m)\u001b[49m\n",
      "File \u001b[1;32m~\\anaconda3\\envs\\testingopenai\\lib\\site-packages\\openai\\_base_client.py:980\u001b[0m, in \u001b[0;36mSyncAPIClient._request\u001b[1;34m(self, cast_to, options, remaining_retries, stream, stream_cls)\u001b[0m\n\u001b[0;32m    977\u001b[0m         err\u001b[38;5;241m.\u001b[39mresponse\u001b[38;5;241m.\u001b[39mread()\n\u001b[0;32m    979\u001b[0m     log\u001b[38;5;241m.\u001b[39mdebug(\u001b[38;5;124m\"\u001b[39m\u001b[38;5;124mRe-raising status error\u001b[39m\u001b[38;5;124m\"\u001b[39m)\n\u001b[1;32m--> 980\u001b[0m     \u001b[38;5;28;01mraise\u001b[39;00m \u001b[38;5;28mself\u001b[39m\u001b[38;5;241m.\u001b[39m_make_status_error_from_response(err\u001b[38;5;241m.\u001b[39mresponse) \u001b[38;5;28;01mfrom\u001b[39;00m \u001b[38;5;28;01mNone\u001b[39;00m\n\u001b[0;32m    982\u001b[0m \u001b[38;5;28;01mreturn\u001b[39;00m \u001b[38;5;28mself\u001b[39m\u001b[38;5;241m.\u001b[39m_process_response(\n\u001b[0;32m    983\u001b[0m     cast_to\u001b[38;5;241m=\u001b[39mcast_to,\n\u001b[0;32m    984\u001b[0m     options\u001b[38;5;241m=\u001b[39moptions,\n\u001b[1;32m   (...)\u001b[0m\n\u001b[0;32m    987\u001b[0m     stream_cls\u001b[38;5;241m=\u001b[39mstream_cls,\n\u001b[0;32m    988\u001b[0m )\n",
      "\u001b[1;31mAuthenticationError\u001b[0m: Error code: 401 - {'error': {'message': 'Incorrect API key provided: YOUR_API_KEY. You can find your API key at https://platform.openai.com/account/api-keys.', 'type': 'invalid_request_error', 'param': None, 'code': 'invalid_api_key'}}"
     ]
    }
   ],
   "source": [
    "all_models = openai.models.list()"
   ]
  },
  {
   "cell_type": "code",
   "execution_count": null,
   "id": "846857ed-5ee0-4598-b49c-0915bbd4a913",
   "metadata": {},
   "outputs": [],
   "source": [
    "list(all_models)"
   ]
  },
  {
   "cell_type": "code",
   "execution_count": null,
   "id": "40af4b48-3610-4045-b97c-b6f379b50718",
   "metadata": {
    "scrolled": true
   },
   "outputs": [],
   "source": [
    "import pandas as pd\n",
    "pd.DataFrame(list(all_models),columns=[\"id\",\"created\",\"object\",\"owned_by\"])"
   ]
  },
  {
   "cell_type": "code",
   "execution_count": null,
   "id": "903d0044-3ba7-4808-b0d3-bfbc9730aabd",
   "metadata": {},
   "outputs": [],
   "source": [
    "# Chat completion API and function calling\n",
    "from openai import OpenAI\n",
    "client = OpenAI(api_key = mykey)\n"
   ]
  },
  {
   "cell_type": "code",
   "execution_count": null,
   "id": "6b03a47e-320e-439e-a8f5-b9b6b78fccdb",
   "metadata": {},
   "outputs": [],
   "source": [
    "response = client.chat.completions.create(\n",
    "  model = \"gpt-3.5-turbo\",\n",
    "  messages=[\n",
    "    {\n",
    "      \"role\": \"user\",\n",
    "      \"content\": \"How  i can start my business?\"\n",
    "    }\n",
    "  ]\n",
    "    \n",
    ")"
   ]
  },
  {
   "cell_type": "code",
   "execution_count": null,
   "id": "b63a4755-13d6-4a1f-b2e8-c49e627e8ebe",
   "metadata": {},
   "outputs": [],
   "source": [
    "response"
   ]
  },
  {
   "cell_type": "code",
   "execution_count": null,
   "id": "64640d92-8e8e-432a-86d3-9e06ea7bc67a",
   "metadata": {},
   "outputs": [],
   "source": [
    "response.choices[0].message.content"
   ]
  },
  {
   "cell_type": "code",
   "execution_count": null,
   "id": "7f62fca8-5ed7-49d5-a5e9-b14a5cdc7081",
   "metadata": {},
   "outputs": [],
   "source": [
    "# Langchain\n",
    "import langchain"
   ]
  },
  {
   "cell_type": "code",
   "execution_count": null,
   "id": "c23107a6-173e-44ee-8197-afc855a9ba45",
   "metadata": {},
   "outputs": [],
   "source": [
    "student_Description = \"John is a student of IIT Delhi. He has a score of 9.5 GPA. He has a good programmin skills and is an active member of the colleges AI Club \""
   ]
  },
  {
   "cell_type": "code",
   "execution_count": null,
   "id": "5a5d878a-e289-422d-b2ae-603ea2a5ead4",
   "metadata": {},
   "outputs": [],
   "source": [
    "student_Description"
   ]
  },
  {
   "cell_type": "code",
   "execution_count": null,
   "id": "bb190a95-5b57-4b23-b135-852283988277",
   "metadata": {},
   "outputs": [],
   "source": [
    "# A simple prompt to extract information from \"student_desription\" in a JSON format.\n",
    "\n",
    "prompt = f'''\n",
    "Please extract the following information rom the iven text and return it as JSON Object :\n",
    "\n",
    "name\n",
    "college\n",
    "grades\n",
    "club\n",
    "\n",
    "This is the body of text to extract the information from:\n",
    "(student_Description)\n",
    "\n",
    "'''"
   ]
  },
  {
   "cell_type": "code",
   "execution_count": null,
   "id": "45d1424d-190c-4e68-a464-d6893b22cbde",
   "metadata": {},
   "outputs": [],
   "source": [
    "prompt"
   ]
  },
  {
   "cell_type": "code",
   "execution_count": null,
   "id": "8d97436b-1abe-4f31-87a1-6e3dbfe4024d",
   "metadata": {},
   "outputs": [],
   "source": [
    "from openai import OpenAI\n",
    "client = OpenAI(api_key=mykey)"
   ]
  },
  {
   "cell_type": "code",
   "execution_count": null,
   "id": "69307a77-3bf5-4ac3-8e67-fd1999badc15",
   "metadata": {},
   "outputs": [],
   "source": [
    "client"
   ]
  },
  {
   "cell_type": "code",
   "execution_count": null,
   "id": "cbe3e948-04b3-4415-820c-dd4d9ca4832a",
   "metadata": {},
   "outputs": [],
   "source": [
    "response = client.chat.completions.create(\n",
    "  model = \"gpt-3.5-turbo\",\n",
    "  messages=[\n",
    "    {\n",
    "      \"role\": \"user\",\n",
    "      \"content\": prompt\n",
    "    }\n",
    "  ]\n",
    ")"
   ]
  },
  {
   "cell_type": "code",
   "execution_count": null,
   "id": "2627fd56-a00b-4a35-842d-ca59ba446ae6",
   "metadata": {},
   "outputs": [],
   "source": [
    "response.choices"
   ]
  },
  {
   "cell_type": "code",
   "execution_count": null,
   "id": "4befc0b5-0e9c-443a-a016-9c408bed5e72",
   "metadata": {},
   "outputs": [],
   "source": [
    "output = response.choices[0].message.content"
   ]
  },
  {
   "cell_type": "code",
   "execution_count": null,
   "id": "f88f76c1-d83a-483c-9f85-81ab24250918",
   "metadata": {},
   "outputs": [],
   "source": [
    "import json\n",
    "json.load(output)"
   ]
  },
  {
   "cell_type": "code",
   "execution_count": null,
   "id": "1500cf39-ff73-4f06-ab2a-c6ec0ac60e0b",
   "metadata": {},
   "outputs": [],
   "source": [
    "student_custom_function = [\n",
    "  {\n",
    "    \"name\": \"extract_student_info\",\n",
    "    \"description\": \"Get the student information from the body of the input text \",\n",
    "    \"parameters\": {\n",
    "      \"type\": \"object\",\n",
    "      \"properties\": {\n",
    "        \"name\": {\n",
    "          \"type\": \"string\",\n",
    "          \"description\": \"Name of the persion.\"\n",
    "        },\n",
    "        \"college\": {\n",
    "          \"type\": \"string\",\n",
    "          \"description\": \"The college name.\"\n",
    "        },\n",
    "        \"grades\": {\n",
    "          \"type\": \"integer\",\n",
    "          \"description\": \"CGPA of the Student.\"\n",
    "        },\n",
    "        \"club\": {\n",
    "          \"type\": \"string\",\n",
    "          \"description\": \"College club for extracurricular activities.\"\n",
    "        }\n",
    "      }\n",
    "    }\n",
    "  }\n",
    "]"
   ]
  },
  {
   "cell_type": "code",
   "execution_count": null,
   "id": "784acea4-b890-4c75-aa94-26f0428ea9ea",
   "metadata": {},
   "outputs": [],
   "source": [
    "response2 = client.chat.completions.create(\n",
    "    model = \"gpt-3.5-turbo\",\n",
    "    messages = {\"role\": \"user\", \"content\": prompt},\n",
    "    functions = student_custom_function\n",
    ")"
   ]
  },
  {
   "cell_type": "code",
   "execution_count": null,
   "id": "0384d103-4a26-43a6-af7f-3c0a791fb31a",
   "metadata": {},
   "outputs": [],
   "source": [
    "response2"
   ]
  },
  {
   "cell_type": "code",
   "execution_count": null,
   "id": "baa0be33-2512-4e74-b6d4-2a3f2c613fb7",
   "metadata": {},
   "outputs": [],
   "source": [
    "response2.choice[0].message"
   ]
  },
  {
   "cell_type": "code",
   "execution_count": null,
   "id": "f11b179a-0a0d-49ff-b551-10e7d56b7c31",
   "metadata": {},
   "outputs": [],
   "source": [
    "response2.choice[0].message.function_call.arguments"
   ]
  },
  {
   "cell_type": "code",
   "execution_count": null,
   "id": "b95735dd-0c97-4db3-b10d-766ec031d2e8",
   "metadata": {},
   "outputs": [],
   "source": [
    "json.loads(response2.choice[0].message.function_call.arguments)"
   ]
  },
  {
   "cell_type": "code",
   "execution_count": null,
   "id": "4516bb2a-436d-4494-9d66-efbf80ab60d8",
   "metadata": {},
   "outputs": [],
   "source": [
    "type(json.loads(response2.choice[0].message.function_call.arguments) )"
   ]
  },
  {
   "cell_type": "code",
   "execution_count": null,
   "id": "45c74690-ea76-4f3a-ae0e-26f423aa7375",
   "metadata": {},
   "outputs": [],
   "source": [
    "student_Description_two = \"Hobert is a student of IIT Mumbai. He has a score of 9.5 GPA. He has a good programmin skills and is an active member of the colleges AI Club \""
   ]
  },
  {
   "cell_type": "code",
   "execution_count": null,
   "id": "6524545d-3dc9-48d7-96eb-bab86faab3ce",
   "metadata": {},
   "outputs": [],
   "source": [
    "student_Description_two = \"Kevin is a student of IIT Roorkee. He has a score of 9.5 GPA. He has a good programmin skills and is an active member of the colleges AI Club \""
   ]
  },
  {
   "cell_type": "code",
   "execution_count": null,
   "id": "fdc3a648-7e64-41ef-94b1-9c68d710dfca",
   "metadata": {},
   "outputs": [],
   "source": [
    "student_info = [student_Description, student_Description_two,student_Description_two]\n",
    "\n",
    "for student n student_info:\n",
    "  response = client.chat.completions.create(\n",
    "      model = 'gpt-3.5-turbo',\n",
    "      messages = [{'role': 'user', 'content': student}],\n",
    "      functions = student_custome_function,\n",
    "      function_call = 'auto'\n",
    "  )\n",
    "\n",
    "  response = json.loads(response.choices[0].message.function_call.arguments)\n",
    "  print(response) # import csv"
   ]
  },
  {
   "cell_type": "code",
   "execution_count": null,
   "id": "82bf3f08-5c14-4bae-8fc6-185b00e50f92",
   "metadata": {},
   "outputs": [],
   "source": [
    "# we can call multple function\n",
    "# student_info = [student_Description, student_Description_two,student_Description_two]\n",
    "# function = [student_custiom_function_one,student_custom_function_two]\n",
    "# for student n student_info:\n",
    "#   response = client.chat.completions.create(\n",
    "#       model = 'gpt-3.5-turbo',\n",
    "#       messages = [{'role' : 'user', 'content': student}],\n",
    "#       functions = function,\n",
    "#       function_call = 'auto'\n",
    "#   )\n",
    "\n",
    "#   response = json.loads(response.choices[0].message.function_call.arguments)\n",
    "#   print(response)  # import csv"
   ]
  },
  {
   "cell_type": "code",
   "execution_count": null,
   "id": "f1105eea-800a-47da-b3c9-23c108374c62",
   "metadata": {},
   "outputs": [],
   "source": [
    "response = client.chat.completions.create(\n",
    "    model = \"gpt-3.5-turbo\",\n",
    "    messages=[\n",
    "        {\n",
    "            \"role\" : \"user\",\n",
    "            \"content\": \"When's the next light from Delhi to Mumbai?\"\n",
    "        }\n",
    "    ]\n",
    ")"
   ]
  },
  {
   "cell_type": "code",
   "execution_count": null,
   "id": "b25a26cf-f9a8-470e-9258-2c5641c26cd8",
   "metadata": {},
   "outputs": [],
   "source": [
    "response.choices[0].message.content"
   ]
  },
  {
   "cell_type": "code",
   "execution_count": null,
   "id": "5cfebfc4-ac42-418f-be2f-233bedec8b37",
   "metadata": {},
   "outputs": [],
   "source": [
    "# Advance function calling\n",
    "function_description = [\n",
    "    {\n",
    "  \"name\": \"get_flight_info\",\n",
    "  \"description\": \"Get flight information between two locations\",\n",
    "  \"parameters\": {\n",
    "    \"type\": \"objects\",\n",
    "    \"propeties\": {\n",
    "      \"loc_origin\": {\n",
    "        \"type\": \"string\",\n",
    "        \"description\": \"The departure airport , e.g DEL\"\n",
    "      },\n",
    "      \"loc_destination\": {\n",
    "        \"type\": \"string\",\n",
    "        \"description\": \"The destination airport , e.g MUM\"\n",
    "      }\n",
    "    },\n",
    "    \"required\": [\"loc_origin\", \"loc_destination\"]\n",
    "  }\n",
    "}\n",
    "]"
   ]
  },
  {
   "cell_type": "code",
   "execution_count": null,
   "id": "87c3a53b-0584-4113-8797-dc64590036c5",
   "metadata": {},
   "outputs": [],
   "source": [
    "user_propmpt = \"When's the ext flight from new delhi to mumbai ?"
   ]
  },
  {
   "cell_type": "code",
   "execution_count": null,
   "id": "8f44726a-5245-407f-a156-ad0925ba3f07",
   "metadata": {},
   "outputs": [],
   "source": [
    "response2 = client.chat.completions.create(\n",
    "    model = \"gpt-3.5-turbo\",\n",
    "    messages = [\n",
    "        {\n",
    "            \"role\":\"user\",\n",
    "            \"content\": user_prompt\n",
    "        }\n",
    "    ],\n",
    "    # Add function calling\n",
    "    function = function_descriptions,\n",
    "    function_call = \"auto\"\n",
    ")"
   ]
  },
  {
   "cell_type": "code",
   "execution_count": null,
   "id": "937bd92d-401a-4307-9792-516f20e69a5f",
   "metadata": {},
   "outputs": [],
   "source": [
    "response2.choices[0].message"
   ]
  },
  {
   "cell_type": "code",
   "execution_count": null,
   "id": "0f816632-10d6-48ac-95e9-72ae871c8bbe",
   "metadata": {},
   "outputs": [],
   "source": [
    "response2.choices[0].message.function_call.arguments"
   ]
  },
  {
   "cell_type": "code",
   "execution_count": null,
   "id": "d1681fa5-b717-49ab-8549-056ecfb89cb5",
   "metadata": {},
   "outputs": [],
   "source": []
  },
  {
   "cell_type": "code",
   "execution_count": null,
   "id": "3d3d020f-87e0-4be6-9f1b-1ae8803b1cae",
   "metadata": {},
   "outputs": [],
   "source": [
    "#  suppose this function calling third party API to get flight details\n",
    "from datetime import datetime, timedelta\n",
    "\n",
    "def get_flight_info(loc_origin,loc_destination):\n",
    "    \"\"\"Get flight information between two locations.\"\"\"\n",
    "\n",
    "# Example output returned from an API or database\n",
    "  flight_info ={\n",
    "      \"loc_origin\" : loc_origin,\n",
    "      \"loc_destination\" : loc_Destination,\n",
    "      \"datetie\" : str(datetime.now() + timedelta(hours=2)),\n",
    "      \"airline\" : \"KLM\",\n",
    "      \"flight\" : \"KL643\"\n",
    "  }\n",
    "  return json.dumps(flight_info)"
   ]
  },
  {
   "cell_type": "code",
   "execution_count": null,
   "id": "2922ae95-5a3e-4f1d-bc8a-ba539d1b4d9a",
   "metadata": {},
   "outputs": [],
   "source": [
    "json.loads(response2.choices[0].message.function_call.arguments)"
   ]
  },
  {
   "cell_type": "code",
   "execution_count": null,
   "id": "628d76f9-5143-4a40-a80c-206ff46bdf69",
   "metadata": {},
   "outputs": [],
   "source": [
    "params = json.loads(response2.choices[0].message.function_call.arguments)"
   ]
  },
  {
   "cell_type": "code",
   "execution_count": null,
   "id": "2d4e502d-d336-4457-8c5c-22c5b5dedd4b",
   "metadata": {},
   "outputs": [],
   "source": [
    "params"
   ]
  },
  {
   "cell_type": "code",
   "execution_count": null,
   "id": "c407350d-6175-4e10-b8eb-c9a0adac6dc0",
   "metadata": {},
   "outputs": [],
   "source": [
    "origin = json.loads(response2.choices[0].message.function_call.arguments).get(\"loc_origin\")\n",
    "=destination = json.loads(response2.choices[0].message.function_call.arguments).get(\"loc_destination\")"
   ]
  },
  {
   "cell_type": "code",
   "execution_count": null,
   "id": "2f51560b-9c9d-41f5-b430-0fc8aaaa5708",
   "metadata": {},
   "outputs": [],
   "source": [
    "response2.choices[0].message.function_call.name  #  function name"
   ]
  },
  {
   "cell_type": "code",
   "execution_count": null,
   "id": "dcaf22ab-b370-40a8-8b83-58d2cc6b32eb",
   "metadata": {},
   "outputs": [],
   "source": [
    "type(response2.choices[0].message.function_call.name)"
   ]
  },
  {
   "cell_type": "code",
   "execution_count": null,
   "id": "4245e032-3cdb-4848-b7bc-162e1b2cd68b",
   "metadata": {},
   "outputs": [],
   "source": [
    "eval(response2.choices[0].message.function_call.name)"
   ]
  },
  {
   "cell_type": "code",
   "execution_count": null,
   "id": "28aaee5f-55c0-41df-8fbd-58d144667299",
   "metadata": {},
   "outputs": [],
   "source": [
    "type(\"2\")"
   ]
  },
  {
   "cell_type": "code",
   "execution_count": null,
   "id": "26bda2b6-2930-4faa-8b85-93ceaad08f18",
   "metadata": {},
   "outputs": [],
   "source": [
    "type(eval(\"2\"))"
   ]
  },
  {
   "cell_type": "code",
   "execution_count": null,
   "id": "c88d66d2-cfe2-40b1-a2e5-fc3d58653b54",
   "metadata": {},
   "outputs": [],
   "source": [
    "chosen_function = eval(response2.choices[0].message.function_call.name)"
   ]
  },
  {
   "cell_type": "code",
   "execution_count": null,
   "id": "30be82e5-dda0-4ea9-b2d7-62234789aee5",
   "metadata": {},
   "outputs": [],
   "source": [
    "flight = chosen_function(**params)\n",
    "print(flight) "
   ]
  },
  {
   "cell_type": "markdown",
   "id": "b7d28149-d326-435a-8fc9-27dcb0783af4",
   "metadata": {},
   "source": [
    "response3 = client.chat.completions.create(\n",
    "    model = \"gpt-3.5-turbo\",\n",
    "    messages = [\n",
    "        {\"roles\": \"user\", \"content\":user_promt},\n",
    "        {\"role\": \"function\", \"name\": response2.choices[0].message.function_call.name, \"content\": flight}\n",
    "    ],\n",
    "    \n",
    "    # Add function calling\n",
    "    functions = fuction_description,\n",
    "    function_call = \"auto\"  # specify the function call\n",
    ");"
   ]
  },
  {
   "cell_type": "code",
   "execution_count": null,
   "id": "372cf005-5ca8-48b1-8c94-159a775b1cf0",
   "metadata": {},
   "outputs": [],
   "source": []
  },
  {
   "cell_type": "code",
   "execution_count": null,
   "id": "829f5775-54bf-471f-b404-352b432aced0",
   "metadata": {},
   "outputs": [],
   "source": [
    "response3"
   ]
  },
  {
   "cell_type": "code",
   "execution_count": null,
   "id": "8e758258-aed0-4afe-afbc-346dcb2ea134",
   "metadata": {},
   "outputs": [],
   "source": [
    "response3.choices[0].message.content"
   ]
  },
  {
   "cell_type": "code",
   "execution_count": null,
   "id": "6837e7cd-a280-4d8b-be98-c8cd9883a60a",
   "metadata": {},
   "outputs": [],
   "source": []
  },
  {
   "cell_type": "code",
   "execution_count": null,
   "id": "f58ffa87-ace0-4737-95e8-f56bb1b6ce9a",
   "metadata": {},
   "outputs": [],
   "source": [
    "# Function calling --> Learn how to connect large language models to exteral tools. It is a wrapper of top of AI"
   ]
  },
  {
   "cell_type": "code",
   "execution_count": null,
   "id": "66b0363d-76cd-49cb-b911-d28b1845e7d0",
   "metadata": {},
   "outputs": [],
   "source": []
  },
  {
   "cell_type": "code",
   "execution_count": 63,
   "id": "04a2b072-816d-45c4-a30b-0dd95e9c0f17",
   "metadata": {},
   "outputs": [],
   "source": [
    "# Langchain\n",
    "import langchain"
   ]
  },
  {
   "cell_type": "code",
   "execution_count": null,
   "id": "0640f339-0abe-4088-8b76-72aa6fd8b5b7",
   "metadata": {},
   "outputs": [],
   "source": [
    "from langchain.llms import OpenAI"
   ]
  },
  {
   "cell_type": "code",
   "execution_count": null,
   "id": "a0c79d1a-50cc-45c4-b906-c14aeaa226e1",
   "metadata": {},
   "outputs": [],
   "source": [
    "client = OpenAI(openai_api_key=mykey)"
   ]
  },
  {
   "cell_type": "code",
   "execution_count": null,
   "id": "8cb4d5c6-a3c8-4df6-bb82-a561c62c5048",
   "metadata": {},
   "outputs": [],
   "source": [
    "# zero shot prompting\n",
    "prompts = \"Can you tell me the total number of countries in Asia? can you give me top 50 country name?\""
   ]
  },
  {
   "cell_type": "code",
   "execution_count": null,
   "id": "cc8eb9eb-f509-4e5d-a244-a59a3b3c9040",
   "metadata": {},
   "outputs": [],
   "source": [
    "print(client.predict(prompt).strip())"
   ]
  }
 ],
 "metadata": {
  "kernelspec": {
   "display_name": "Python 3 (ipykernel)",
   "language": "python",
   "name": "python3"
  },
  "language_info": {
   "codemirror_mode": {
    "name": "ipython",
    "version": 3
   },
   "file_extension": ".py",
   "mimetype": "text/x-python",
   "name": "python",
   "nbconvert_exporter": "python",
   "pygments_lexer": "ipython3",
   "version": "3.10.13"
  }
 },
 "nbformat": 4,
 "nbformat_minor": 5
}
